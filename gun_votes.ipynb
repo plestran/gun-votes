{
 "cells": [
  {
   "cell_type": "markdown",
   "metadata": {},
   "source": [
    "# Predict Gun Control Votes\n",
    "\n",
    "This was a toy project to see if I could predict whether someone would vote for gun control legislation. There were a number of things I wanted to try like \n",
    " - party affiliation\n",
    " - whether someone is in the majority party\n",
    " - how much they won their previous election by\n",
    "\n",
    "I identified a few interesting factors, like that party affiliation is highly correlated with NRA ratings. But in the end the NRA rating was the only feature necessary to make an accurate prediction. "
   ]
  },
  {
   "cell_type": "code",
   "execution_count": 1,
   "metadata": {},
   "outputs": [],
   "source": [
    "import xlrd\n",
    "import numpy as np\n",
    "import seaborn as sns\n",
    "import pandas as pd\n",
    "import warnings\n",
    "warnings.filterwarnings(\"ignore\")\n",
    "\n",
    "import matplotlib.pyplot as plt\n",
    "%matplotlib inline\n",
    "\n",
    "from sklearn.model_selection import train_test_split\n",
    "from sklearn.model_selection import cross_validate\n",
    "from sklearn.model_selection import GridSearchCV\n",
    "from sklearn.model_selection import KFold\n",
    "from sklearn.linear_model import LogisticRegression\n",
    "from sklearn.metrics import classification_report\n",
    "from sklearn.metrics import confusion_matrix\n",
    "from sklearn.metrics import recall_score\n",
    "from sklearn.metrics import roc_curve, auc"
   ]
  },
  {
   "cell_type": "code",
   "execution_count": 2,
   "metadata": {},
   "outputs": [],
   "source": [
    "# https://github.com/unitedstates/congress-legislators\n",
    "# read legislators from a csv file\n",
    "legislators     = pd.read_csv('legislators-current.csv')\n",
    "senators        = legislators[legislators.type == 'sen']\n",
    "representatives = legislators[legislators.type == 'rep']"
   ]
  },
  {
   "cell_type": "code",
   "execution_count": 3,
   "metadata": {},
   "outputs": [],
   "source": [
    "# get information about representative's terms\n",
    "terms = pd.read_json('legislators-current.json')"
   ]
  },
  {
   "cell_type": "code",
   "execution_count": 4,
   "metadata": {},
   "outputs": [],
   "source": [
    "# https://en.wikipedia.org/wiki/Party_leaders_of_the_United_States_Senate#History\n",
    "# dictionary of changes in majority party\n",
    "majority_party = {}\n",
    "majority_party['January-03-1995'] = 'Republican'\n",
    "majority_party['January-03-2001'] = 'Democrat'\n",
    "majority_party['January-20-2001'] = 'Republican'\n",
    "majority_party['June-06-2001']    = 'Democrat'\n",
    "majority_party['January-03-2003'] = 'Republican'\n",
    "majority_party['January-03-2007'] = 'Democrat'\n",
    "majority_party['January-03-2015'] = 'Republican'"
   ]
  },
  {
   "cell_type": "code",
   "execution_count": 5,
   "metadata": {},
   "outputs": [],
   "source": [
    "# save the full name of the senator\n",
    "full_name = []\n",
    "for first, last in zip(senators.first_name, senators.last_name):\n",
    "    full_name.append(', '.join([last,first]))\n",
    "senators['full_name'] = full_name\n",
    "\n",
    "# build a list of years in the excel sheet\n",
    "years = list(range(2004,2017,2))\n",
    "\n",
    "# grab the election results for all current senators\n",
    "election_results = []\n",
    "key = ['LAST NAME, FIRST', 'LAST NAME, FIRST']\n",
    "key += ['CANDIDATE NAME' for _ in range(7)]\n",
    "for i, year in enumerate(years):\n",
    "    election_df = pd.read_excel('senate_election_results.xlsx', sheet_name=str(year))\n",
    "    election_df['year'] = year\n",
    "    \n",
    "    # check the vote percentage for each senator in this election\n",
    "    for senator, state in zip(full_name, senators.state):\n",
    "        if senator in list(election_df[key[i]]):\n",
    "            index = election_df.index[election_df[key[i]] == senator][0]\n",
    "            if election_df.iloc[index].DISTRICT == 'S' and election_df.iloc[index]['STATE ABBREVIATION'] == state:\n",
    "                election_results.append({\n",
    "                    'year'         : year,\n",
    "                    'full_name'    : senator,\n",
    "                    'vote_percent' : election_df.iloc[index]['GENERAL %']\n",
    "                })\n",
    "#   print()\n",
    "election_results = pd.DataFrame(election_results)"
   ]
  },
  {
   "cell_type": "code",
   "execution_count": 6,
   "metadata": {},
   "outputs": [],
   "source": [
    "# grab the nra ratings \n",
    "nra = pd.read_pickle('Gun_Legislation/nra_all_years.pickle')\n",
    "nra_senate = nra[nra.Office == 'U.S. Senate']"
   ]
  },
  {
   "cell_type": "code",
   "execution_count": 7,
   "metadata": {},
   "outputs": [
    {
     "data": {
      "text/plain": [
       "[2018, 2017, 2016, 2014, 2012, 2010, 2008, 2006, 2004, 2002, 2000, 1993]"
      ]
     },
     "execution_count": 7,
     "metadata": {},
     "output_type": "execute_result"
    }
   ],
   "source": [
    "nra_years = nra_senate.Year.unique().tolist()\n",
    "nra_years"
   ]
  },
  {
   "cell_type": "code",
   "execution_count": 8,
   "metadata": {},
   "outputs": [],
   "source": [
    "# loop over current senators\n",
    "all_ratings, avg_ratings = [], []\n",
    "for first_name, last_name, cspan_id in zip(senators.first_name, senators.last_name, senators.cspan_id):\n",
    "    \n",
    "    # find all their ratings\n",
    "    total, count = 0, 0\n",
    "    senator_ratings = {'cspan_id': cspan_id}\n",
    "    for index, row in nra_senate.iterrows():\n",
    "        if first_name in row['Name'] and last_name in row['Name']:\n",
    "            senator_ratings[str(row['Year'])+'_nra_rating'] = row['Rating']\n",
    "            if row['Year'] < 2013:\n",
    "                total += int(row['Rating'])\n",
    "                count += 1\n",
    "    if (count > 1):\n",
    "        avg_ratings.append({'cspan_id'       : cspan_id,\n",
    "                            'avg_nra_rating' : total/count})\n",
    "    else:\n",
    "        avg_ratings.append({'cspan_id'       : cspan_id,\n",
    "                            'avg_nra_rating' : -1})\n",
    "    \n",
    "    all_ratings.append(senator_ratings)\n",
    "\n",
    "senator_ratings = pd.DataFrame(all_ratings)\n",
    "avg_ratings     = pd.DataFrame(avg_ratings)"
   ]
  },
  {
   "cell_type": "code",
   "execution_count": 9,
   "metadata": {},
   "outputs": [],
   "source": [
    "# save their nra ratings\n",
    "senators = pd.merge(senators, senator_ratings, on='cspan_id', how='left')\n",
    "senators = pd.merge(senators, avg_ratings, on='cspan_id', how='left')"
   ]
  },
  {
   "cell_type": "code",
   "execution_count": 10,
   "metadata": {},
   "outputs": [
    {
     "data": {
      "text/html": [
       "<div>\n",
       "<style scoped>\n",
       "    .dataframe tbody tr th:only-of-type {\n",
       "        vertical-align: middle;\n",
       "    }\n",
       "\n",
       "    .dataframe tbody tr th {\n",
       "        vertical-align: top;\n",
       "    }\n",
       "\n",
       "    .dataframe thead th {\n",
       "        text-align: right;\n",
       "    }\n",
       "</style>\n",
       "<table border=\"1\" class=\"dataframe\">\n",
       "  <thead>\n",
       "    <tr style=\"text-align: right;\">\n",
       "      <th></th>\n",
       "      <th>avg_nra_rating</th>\n",
       "    </tr>\n",
       "    <tr>\n",
       "      <th>party</th>\n",
       "      <th></th>\n",
       "    </tr>\n",
       "  </thead>\n",
       "  <tbody>\n",
       "    <tr>\n",
       "      <th>Democrat</th>\n",
       "      <td>22.492222</td>\n",
       "    </tr>\n",
       "    <tr>\n",
       "      <th>Republican</th>\n",
       "      <td>91.675000</td>\n",
       "    </tr>\n",
       "  </tbody>\n",
       "</table>\n",
       "</div>"
      ],
      "text/plain": [
       "            avg_nra_rating\n",
       "party                     \n",
       "Democrat         22.492222\n",
       "Republican       91.675000"
      ]
     },
     "execution_count": 10,
     "metadata": {},
     "output_type": "execute_result"
    }
   ],
   "source": [
    "senators[senators.avg_nra_rating != -1][['party', 'avg_nra_rating']].groupby('party').mean()"
   ]
  },
  {
   "cell_type": "code",
   "execution_count": 11,
   "metadata": {},
   "outputs": [
    {
     "data": {
      "text/html": [
       "<div>\n",
       "<style scoped>\n",
       "    .dataframe tbody tr th:only-of-type {\n",
       "        vertical-align: middle;\n",
       "    }\n",
       "\n",
       "    .dataframe tbody tr th {\n",
       "        vertical-align: top;\n",
       "    }\n",
       "\n",
       "    .dataframe thead th {\n",
       "        text-align: right;\n",
       "    }\n",
       "</style>\n",
       "<table border=\"1\" class=\"dataframe\">\n",
       "  <thead>\n",
       "    <tr style=\"text-align: right;\">\n",
       "      <th></th>\n",
       "      <th>avg_nra_rating</th>\n",
       "    </tr>\n",
       "    <tr>\n",
       "      <th>party</th>\n",
       "      <th></th>\n",
       "    </tr>\n",
       "  </thead>\n",
       "  <tbody>\n",
       "    <tr>\n",
       "      <th>Democrat</th>\n",
       "      <td>22.492222</td>\n",
       "    </tr>\n",
       "    <tr>\n",
       "      <th>Independent</th>\n",
       "      <td>22.492222</td>\n",
       "    </tr>\n",
       "    <tr>\n",
       "      <th>Republican</th>\n",
       "      <td>91.675000</td>\n",
       "    </tr>\n",
       "  </tbody>\n",
       "</table>\n",
       "</div>"
      ],
      "text/plain": [
       "             avg_nra_rating\n",
       "party                      \n",
       "Democrat          22.492222\n",
       "Independent       22.492222\n",
       "Republican        91.675000"
      ]
     },
     "execution_count": 11,
     "metadata": {},
     "output_type": "execute_result"
    }
   ],
   "source": [
    "# impute values for avg rating based on party (Independents usually caucus with Dems)  \n",
    "senators.loc[(((senators.party == 'Democrat') | (senators.party == 'Independent')) \\\n",
    "              & (senators.avg_nra_rating == -1)), 'avg_nra_rating'] = 22.492222\n",
    "senators.loc[((senators.party == 'Republican') \\\n",
    "              & (senators.avg_nra_rating == -1)), 'avg_nra_rating'] = 91.675000\n",
    "senators[senators.avg_nra_rating != -1][['party', 'avg_nra_rating']].groupby('party').mean()"
   ]
  },
  {
   "cell_type": "code",
   "execution_count": 12,
   "metadata": {},
   "outputs": [],
   "source": [
    "# grab names of each gun bill\n",
    "senate_votes_excel = 'senate_voting_data.xlsx'\n",
    "xls = xlrd.open_workbook(senate_votes_excel, on_demand=True)\n",
    "gun_bills = xls.sheet_names()\n",
    "\n",
    "# find the votes for each current senator\n",
    "senator_votes = []\n",
    "for bill in gun_bills:\n",
    "    votes = pd.read_excel(senate_votes_excel, sheet_name=bill)\n",
    "    for first_name, last_name, cspan_id in zip(senators.first_name, senators.last_name, senators.cspan_id):\n",
    "        for i, name in enumerate(votes.Name):\n",
    "            if first_name in name and last_name in name:\n",
    "                senator_votes.append({\n",
    "                    'bill'       : bill, \n",
    "                    'cspan_id'   : cspan_id,\n",
    "                    'vote'       : votes.Vote[i]\n",
    "                })\n",
    "senator_votes = pd.DataFrame(senator_votes)"
   ]
  },
  {
   "cell_type": "code",
   "execution_count": 13,
   "metadata": {},
   "outputs": [],
   "source": [
    "# merge the senators and the votes together\n",
    "df = pd.merge(senators, senator_votes, on='cspan_id', how='left')"
   ]
  },
  {
   "cell_type": "code",
   "execution_count": 14,
   "metadata": {},
   "outputs": [],
   "source": [
    "# define whether they're in the majority party at the time of the vote\n",
    "vote_dates = {'Conceal Reciprocity, 2013' : 'April 17, 2013', \n",
    "              'Manchin-Toomey, 2015'      : 'December 03, 2015',\n",
    "              'Murphy Amendment, 2016'    : 'June 20, 2016', \n",
    "              'Feinstein Amendment, 2016' : 'June 20, 2016'    }\n",
    "df['vote_dates'] = df.bill.map(vote_dates)\n",
    "majority = {'Conceal Reciprocity, 2013' : 'Democrat', \n",
    "            'Manchin-Toomey, 2015'      : 'Democrat',\n",
    "            'Murphy Amendment, 2016'    : 'Republican', \n",
    "            'Feinstein Amendment, 2016' : 'Republican'  }\n",
    "df['majority_party'] = df.bill.map(majority)\n",
    "df['in_majority'] = df.party == df.majority_party\n",
    "df.in_majority = df.in_majority.map({True : 1, False : 0})"
   ]
  },
  {
   "cell_type": "code",
   "execution_count": 15,
   "metadata": {},
   "outputs": [],
   "source": [
    "# encode whether the bill expands gun rights or limits\n",
    "gun_control = {'Conceal Reciprocity, 2013' : 0, \n",
    "               'Manchin-Toomey, 2015'      : 1,\n",
    "               'Murphy Amendment, 2016'    : 1, \n",
    "               'Feinstein Amendment, 2016' : 0 }\n",
    "df['gun_control'] = df.bill.map(gun_control)"
   ]
  },
  {
   "cell_type": "code",
   "execution_count": 16,
   "metadata": {},
   "outputs": [],
   "source": [
    "# encode yes and no votes\n",
    "df.vote = df.vote.map({ 'Nay'        : 0, \n",
    "                        'Yea'        : 1, \n",
    "                        'Not Voting' : 'abstain' })\n",
    "# remove abstains\n",
    "df = df[df.vote != 'abstain']"
   ]
  },
  {
   "cell_type": "code",
   "execution_count": 17,
   "metadata": {},
   "outputs": [],
   "source": [
    "# encode their gender\n",
    "df.gender = df.gender.map({ 'M' : 1, \n",
    "                            'F' : 0 })"
   ]
  },
  {
   "cell_type": "code",
   "execution_count": 18,
   "metadata": {},
   "outputs": [],
   "source": [
    "def append_dummies(df, columns):\n",
    "    ''' Append dummy versions of columns to a dataframe '''\n",
    "    for col in columns:\n",
    "        dummy_col = pd.get_dummies(df[col])\n",
    "        df[dummy_col.columns.tolist()] = dummy_col\n",
    "    return df"
   ]
  },
  {
   "cell_type": "code",
   "execution_count": 19,
   "metadata": {},
   "outputs": [],
   "source": [
    "dummy_columns = ['state', 'party']\n",
    "df = append_dummies(df, dummy_columns)"
   ]
  },
  {
   "cell_type": "code",
   "execution_count": 20,
   "metadata": {},
   "outputs": [
    {
     "name": "stdout",
     "output_type": "stream",
     "text": [
      "Conceal Reciprocity, 2013\n",
      "                 vote\n",
      "party                \n",
      "Democrat     0.189189\n",
      "Independent  0.000000\n",
      "Republican   1.000000\n",
      "\n",
      "Manchin-Toomey, 2015\n",
      "                 vote\n",
      "party                \n",
      "Democrat     0.967742\n",
      "Independent  1.000000\n",
      "Republican   0.047619\n",
      "\n",
      "Murphy Amendment, 2016\n",
      "                 vote\n",
      "party                \n",
      "Democrat     0.923077\n",
      "Independent  1.000000\n",
      "Republican   0.000000\n",
      "\n",
      "Feinstein Amendment, 2016\n",
      "                 vote\n",
      "party                \n",
      "Democrat     0.051282\n",
      "Independent  0.000000\n",
      "Republican   0.958333\n",
      "\n"
     ]
    }
   ],
   "source": [
    "for bill in list(df.bill.unique())[:-1]:\n",
    "    print(bill)\n",
    "    avg_vote = df[['party', 'vote', 'bill']].dropna(how='any')\n",
    "    avg_vote = avg_vote[avg_vote.bill == bill]\n",
    "    avg_vote.vote = avg_vote.vote.astype('int')\n",
    "    print(avg_vote.groupby('party').mean())\n",
    "    print()"
   ]
  },
  {
   "cell_type": "code",
   "execution_count": 21,
   "metadata": {},
   "outputs": [
    {
     "name": "stdout",
     "output_type": "stream",
     "text": [
      "               gender  for_control  avg_nra_rating\n",
      "party                                             \n",
      "Democrat     0.653595     0.869281       22.784226\n",
      "Independent  1.000000     1.000000       22.492222\n",
      "Republican   0.898876     0.022472       91.667556\n",
      "        for_control  avg_nra_rating\n",
      "gender                             \n",
      "0          0.661972       34.751604\n",
      "1          0.363296       65.516454\n"
     ]
    }
   ],
   "source": [
    "# create a new target variable and see the breakdown between parties and gender\n",
    "df['for_control'] = df.gun_control == df.vote\n",
    "avg_vote = df[['party', 'gender', 'for_control', 'avg_nra_rating']].dropna(how='any')\n",
    "print(avg_vote.groupby('party').mean())\n",
    "print(avg_vote.groupby('gender').mean())"
   ]
  },
  {
   "cell_type": "code",
   "execution_count": 22,
   "metadata": {},
   "outputs": [
    {
     "data": {
      "image/png": "[encoded data removed]",
      "text/plain": [
       "<matplotlib.figure.Figure at 0x11656ca90>"
      ]
     },
     "metadata": {},
     "output_type": "display_data"
    }
   ],
   "source": [
    "sns.heatmap(df[['Democrat', 'Republican', 'Independent', 'avg_nra_rating', 'for_control']].corr(), annot=True);"
   ]
  },
  {
   "cell_type": "markdown",
   "metadata": {},
   "source": [
    "# Regression"
   ]
  },
  {
   "cell_type": "code",
   "execution_count": 23,
   "metadata": {},
   "outputs": [],
   "source": [
    "# features = list(df.party.unique())\n",
    "features = ['avg_nra_rating']\n",
    "target   = 'for_control'"
   ]
  },
  {
   "cell_type": "code",
   "execution_count": 24,
   "metadata": {},
   "outputs": [],
   "source": [
    "def grid_search(base_clf, parameters, scores, X_train, X_test, y_train, y_test):\n",
    "\n",
    "    # loop over the different scores and see what parameters are best for the different metrics\n",
    "    for score in scores:\n",
    "        print(\"# Tuning hyper-parameters for %s\\n\" % score)\n",
    "\n",
    "        clf = GridSearchCV(base_clf, parameters, cv=KFold(10), scoring=score)\n",
    "        clf.fit(X_train, y_train)\n",
    "\n",
    "        print(\"Best parameters set found on development set:\\n\")\n",
    "        print(clf.best_params_)\n",
    "        print()\n",
    "        print(\"Grid scores on development set:\\n\")\n",
    "        means = clf.cv_results_['mean_test_score']\n",
    "        stds  = clf.cv_results_['std_test_score']\n",
    "        for mean, std, params in zip(means, stds, clf.cv_results_['params']):\n",
    "            print(\"%0.3f (+/-%0.03f) for %r\" % (mean, std * 2, params))\n",
    "        print()\n",
    "        \n",
    "        print(\"Classification report:\\n\")\n",
    "        y_true, y_pred = y_test, clf.predict(X_test)\n",
    "        print(classification_report(y_true, y_pred))\n",
    "        print()\n",
    "        \n",
    "    return clf.best_params_"
   ]
  },
  {
   "cell_type": "code",
   "execution_count": 25,
   "metadata": {},
   "outputs": [
    {
     "name": "stdout",
     "output_type": "stream",
     "text": [
      "Testing Bill:  Feinstein Amendment, 2016\n"
     ]
    }
   ],
   "source": [
    "# separate the last bill vote for testing\n",
    "test_bill = list(df.bill.unique())[-2]\n",
    "print(\"Testing Bill: \", test_bill)\n",
    "\n",
    "no_null = df[features+[target, 'bill']].dropna(how='any')\n",
    "train = no_null[no_null.bill != test_bill]\n",
    "test  = no_null[no_null.bill == test_bill]\n",
    "X_train, y_train = train[features], train[target].tolist()\n",
    "X_test, y_test   = test[features], test[target].tolist()"
   ]
  },
  {
   "cell_type": "code",
   "execution_count": 26,
   "metadata": {},
   "outputs": [
    {
     "name": "stdout",
     "output_type": "stream",
     "text": [
      "# Tuning hyper-parameters for accuracy\n",
      "\n",
      "Best parameters set found on development set:\n",
      "\n",
      "{'C': 10, 'penalty': 'l1'}\n",
      "\n",
      "Grid scores on development set:\n",
      "\n",
      "0.925 (+/-0.139) for {'C': 0.1, 'penalty': 'l1'}\n",
      "0.925 (+/-0.139) for {'C': 0.1, 'penalty': 'l2'}\n",
      "0.925 (+/-0.139) for {'C': 1, 'penalty': 'l1'}\n",
      "0.925 (+/-0.139) for {'C': 1, 'penalty': 'l2'}\n",
      "0.937 (+/-0.108) for {'C': 10, 'penalty': 'l1'}\n",
      "0.937 (+/-0.108) for {'C': 10, 'penalty': 'l2'}\n",
      "0.937 (+/-0.108) for {'C': 100, 'penalty': 'l1'}\n",
      "0.937 (+/-0.108) for {'C': 100, 'penalty': 'l2'}\n",
      "0.937 (+/-0.108) for {'C': 1000, 'penalty': 'l1'}\n",
      "0.937 (+/-0.108) for {'C': 1000, 'penalty': 'l2'}\n",
      "\n",
      "Classification report:\n",
      "\n",
      "             precision    recall  f1-score   support\n",
      "\n",
      "      False       0.94      0.98      0.96        48\n",
      "       True       0.97      0.93      0.95        41\n",
      "\n",
      "avg / total       0.96      0.96      0.95        89\n",
      "\n",
      "\n"
     ]
    }
   ],
   "source": [
    "# define the parameters to test\n",
    "parameters =  { 'penalty' : ['l1' ,'l2'], \n",
    "                'C'       : [0.1, 1, 10, 100, 1000] }\n",
    "\n",
    "# define the metrics we'll use to score the different parameters on\n",
    "scores = ['accuracy']\n",
    "\n",
    "# tune the hyper parameters\n",
    "params = grid_search(LogisticRegression(), parameters, scores, \n",
    "                     X_train, X_test, y_train, y_test)"
   ]
  },
  {
   "cell_type": "code",
   "execution_count": 27,
   "metadata": {},
   "outputs": [
    {
     "name": "stdout",
     "output_type": "stream",
     "text": [
      "             precision    recall  f1-score   support\n",
      "\n",
      "      False       0.92      0.98      0.95        48\n",
      "       True       0.97      0.90      0.94        41\n",
      "\n",
      "avg / total       0.95      0.94      0.94        89\n",
      "\n"
     ]
    }
   ],
   "source": [
    "clf = LogisticRegression()#**params)\n",
    "clf.fit(X_train, y_train)\n",
    "y_pred = clf.predict(X_test)\n",
    "print(classification_report(y_test, y_pred))"
   ]
  },
  {
   "cell_type": "code",
   "execution_count": 28,
   "metadata": {},
   "outputs": [],
   "source": [
    "def plot_distribution(series):\n",
    "    '''Plot distribution compared to normal and print out some summary statistics'''\n",
    "    from scipy import stats\n",
    "    \n",
    "    mu, sigma, skew = series.mean(), series.std(), series.skew()\n",
    "    print( '\\n mu = {:.2f}, sigma = {:.2f}, skew = {:.2f}'.format(mu, sigma, skew))\n",
    "    \n",
    "    fig = plt.figure()\n",
    "    fig.set_size_inches(8, 4)\n",
    "\n",
    "    sns.distplot(series)#, fit=stats.norm)\n",
    "    \n",
    "    plt.tight_layout()"
   ]
  },
  {
   "cell_type": "code",
   "execution_count": 29,
   "metadata": {},
   "outputs": [
    {
     "name": "stdout",
     "output_type": "stream",
     "text": [
      "\n",
      " mu = 0.41, sigma = 0.41, skew = 0.28\n"
     ]
    },
    {
     "data": {
      "image/png": "[encoded data removed]",
      "text/plain": [
       "<matplotlib.figure.Figure at 0x10e732940>"
      ]
     },
     "metadata": {},
     "output_type": "display_data"
    }
   ],
   "source": [
    "probabilities = clf.predict_proba(X_test)[:,1]\n",
    "plot_distribution(pd.Series(probabilities))"
   ]
  },
  {
   "cell_type": "code",
   "execution_count": 30,
   "metadata": {},
   "outputs": [
    {
     "data": {
      "image/png": "[encoded data removed]",
      "text/plain": [
       "<matplotlib.figure.Figure at 0x116be1160>"
      ]
     },
     "metadata": {},
     "output_type": "display_data"
    }
   ],
   "source": [
    "def plot_roc(fpr, tpr):\n",
    "    roc_auc = auc(fpr, tpr)\n",
    "\n",
    "    plt.figure()\n",
    "    plt.plot(fpr, tpr, color='darkorange',\n",
    "             lw=2, label='ROC curve (area = %0.2f)' % roc_auc)\n",
    "    plt.plot([0, 1], [0, 1], color='navy', lw=2, linestyle='--')\n",
    "\n",
    "    plt.xlim([-.02, 1.0])\n",
    "    plt.ylim([0.0, 1.05])\n",
    "    plt.xlabel('False Positive Rate')\n",
    "    plt.ylabel('True Positive Rate')\n",
    "    plt.title('Receiver Operating Characteristic')\n",
    "    plt.legend(loc=\"lower right\")\n",
    "    plt.show()\n",
    "    \n",
    "# compute ROC curve and find the appropriate threshold to minimize false negatives\n",
    "fpr, tpr, threshold = roc_curve(y_test, clf.predict_proba(X_test)[:,1])\n",
    "plot_roc(fpr, tpr)"
   ]
  },
  {
   "cell_type": "code",
   "execution_count": 31,
   "metadata": {},
   "outputs": [],
   "source": [
    "# # save the feature importance and sort\n",
    "# feature_importance = {'%s' % features[i]: coef for i, coef in enumerate(clf.coef_[0])}\n",
    "# ordered_features = sorted(feature_importance, key=lambda dict_key: abs(feature_importance[dict_key]))\n",
    "# coefficients = [feature_importance[f] for f in ordered_features]\n",
    "\n",
    "# # make a bar chart of all features\n",
    "# ax = sns.barplot(x=ordered_features, y=coefficients)\n",
    "# plt.title(\"Log Odds\")\n",
    "# for item in ax.get_xticklabels():\n",
    "#     item.set_rotation(45)"
   ]
  },
  {
   "cell_type": "code",
   "execution_count": null,
   "metadata": {},
   "outputs": [],
   "source": []
  }
 ],
 "metadata": {
  "kernelspec": {
   "display_name": "Insight-Py3",
   "language": "python",
   "name": "insight-env"
  },
  "language_info": {
   "codemirror_mode": {
    "name": "ipython",
    "version": 3
   },
   "file_extension": ".py",
   "mimetype": "text/x-python",
   "name": "python",
   "nbconvert_exporter": "python",
   "pygments_lexer": "ipython3",
   "version": "3.6.3"
  }
 },
 "nbformat": 4,
 "nbformat_minor": 2
}
